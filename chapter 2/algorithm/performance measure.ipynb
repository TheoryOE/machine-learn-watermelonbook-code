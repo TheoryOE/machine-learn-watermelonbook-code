{
 "cells": [
  {
   "cell_type": "code",
   "execution_count": 1,
   "id": "3b6428c6",
   "metadata": {},
   "outputs": [],
   "source": [
    "# 同时显示多个结果\n",
    "# python函数返回多个结果时，结果是元组格式\n",
    "from IPython.core.interactiveshell import InteractiveShell\n",
    "InteractiveShell.ast_node_interactivity = 'all'"
   ]
  },
  {
   "cell_type": "code",
   "execution_count": 2,
   "id": "82a18a18",
   "metadata": {},
   "outputs": [],
   "source": [
    "import numpy as np"
   ]
  },
  {
   "cell_type": "markdown",
   "id": "8a431950",
   "metadata": {},
   "source": [
    "# sklearn实现"
   ]
  },
  {
   "cell_type": "markdown",
   "id": "1b09a08c",
   "metadata": {},
   "source": [
    "## 均方误差"
   ]
  },
  {
   "cell_type": "code",
   "execution_count": null,
   "id": "d874d994",
   "metadata": {},
   "outputs": [],
   "source": []
  },
  {
   "cell_type": "code",
   "execution_count": null,
   "id": "07ba32fe",
   "metadata": {},
   "outputs": [],
   "source": []
  },
  {
   "cell_type": "markdown",
   "id": "02a3daba",
   "metadata": {},
   "source": [
    "## 错误率与精度"
   ]
  },
  {
   "cell_type": "markdown",
   "id": "ab3e81df",
   "metadata": {},
   "source": [
    "### **sklearn.metrics.accuracy_score(y_true, y_pred, *, normalize=True, sample_weight=None):**  \n",
    "**y_true：**y的真实值  \n",
    "**y_pred：**y的预测值  \n",
    "**normalize：**为True时，返回正确分类比率，为False时，返回正确分类个数\n",
    "**sample_weight：**样本权重"
   ]
  },
  {
   "cell_type": "code",
   "execution_count": 3,
   "id": "d296e0f9",
   "metadata": {},
   "outputs": [
    {
     "data": {
      "text/plain": [
       "0.6"
      ]
     },
     "execution_count": 3,
     "metadata": {},
     "output_type": "execute_result"
    },
    {
     "data": {
      "text/plain": [
       "3"
      ]
     },
     "execution_count": 3,
     "metadata": {},
     "output_type": "execute_result"
    },
    {
     "data": {
      "text/plain": [
       "0.4"
      ]
     },
     "execution_count": 3,
     "metadata": {},
     "output_type": "execute_result"
    }
   ],
   "source": [
    "from sklearn.metrics import accuracy_score\n",
    "y_pred = [0, 2, 1, 3, 1]\n",
    "y_true = [0, 1, 2, 3, 1]\n",
    "accuracy_score(y_true,y_pred)\n",
    "accuracy_score(y_true, y_pred, normalize=False)\n",
    "accuracy_score(y_true, y_pred, normalize=False, sample_weight = [0.1, 0.3, 0.3, 0.1, 0.2])"
   ]
  },
  {
   "cell_type": "markdown",
   "id": "4563a23b",
   "metadata": {},
   "source": [
    "## 查准率、查全率与F1"
   ]
  },
  {
   "cell_type": "markdown",
   "id": "302363c6",
   "metadata": {},
   "source": [
    "### sklearn.metrics.precision_score(y_true, y_pred, *, labels=None, pos_label=1, average='binary', sample_weight=None, zero_division='warn'):  \n",
    "### recall_score(y_true, y_pred, *, labels=None, pos_label=1, average='binary', sample_weight=None, zero_division='warn')：\n",
    "### f1_score(y_true, y_pred, *, labels=None, pos_label=1, average='binary', sample_weight=None, zero_division='warn')：\n",
    "**y_true:**真实值  \n",
    "**y_pred:**预测值  \n",
    "**labels:**类别标签  \n",
    "**pos_labels:**只针对二分类，计算pos_label这一类数据的怕precision，如果是多分类，该参数不起作用  \n",
    "**average：**binary—二分类；micro-计算全局的precision；macro-计算每类数据的precision，然后进行不加劝平均；weighted-计算每类数据的precision，然后进行加劝平均；sample-计算某个具体指标的precision，然后求平均；  \n",
    "**sample_weight：**样本权重  \n",
    "**zero_division：**当tp+fp等于0时，该参数会发出警告。"
   ]
  },
  {
   "cell_type": "code",
   "execution_count": 4,
   "id": "49e819b6",
   "metadata": {},
   "outputs": [
    {
     "name": "stdout",
     "output_type": "stream",
     "text": [
      "precision:0.6\n",
      "recall:0.75\n",
      "f1:0.6666666666666665\n"
     ]
    }
   ],
   "source": [
    "# 0--反例 1--正例\n",
    "from sklearn.metrics import precision_score, recall_score, f1_score\n",
    "y_pred = [0, 1, 1, 0, 1, 0, 0, 0, 1, 1]\n",
    "y_true = [0, 0, 1, 0, 1, 1, 0, 0, 0, 1]\n",
    "print('precision:{}'.format(precision_score(y_true, y_pred)))\n",
    "print('recall:{}'.format(recall_score(y_true, y_pred)))\n",
    "print('f1:{}'.format(f1_score(y_true, y_pred)))"
   ]
  },
  {
   "cell_type": "markdown",
   "id": "d838a4b3",
   "metadata": {},
   "source": [
    "### precision_recall_curve(y_true, probas_pred, *, pos_label=None, sample_weight=None):  \n",
    "**y_true：**真实值  \n",
    "**prob_pred：**预测概率  \n",
    "**pos_label：**正样本标签  \n",
    "**sample_weight：**样本权重"
   ]
  },
  {
   "cell_type": "code",
   "execution_count": 77,
   "id": "444034f8",
   "metadata": {},
   "outputs": [],
   "source": [
    "from sklearn.metrics import precision_recall_curve\n",
    "y_true = np.array([0, 1, 0, 1, 1, 0])\n",
    "y_scores = np.array([0.1, 0.6, 0.4, 0.35, 0.8, 0.72])\n",
    "precision, recall, thresholds = precision_recall_curve(y_true, y_scores)"
   ]
  },
  {
   "cell_type": "code",
   "execution_count": 78,
   "id": "86d5bcc4",
   "metadata": {},
   "outputs": [
    {
     "data": {
      "text/plain": [
       "array([0.6       , 0.5       , 0.66666667, 0.5       , 1.        ,\n",
       "       1.        ])"
      ]
     },
     "execution_count": 78,
     "metadata": {},
     "output_type": "execute_result"
    },
    {
     "data": {
      "text/plain": [
       "array([1.        , 0.66666667, 0.66666667, 0.33333333, 0.33333333,\n",
       "       0.        ])"
      ]
     },
     "execution_count": 78,
     "metadata": {},
     "output_type": "execute_result"
    },
    {
     "data": {
      "text/plain": [
       "array([0.35, 0.4 , 0.6 , 0.72, 0.8 ])"
      ]
     },
     "execution_count": 78,
     "metadata": {},
     "output_type": "execute_result"
    }
   ],
   "source": [
    "precision\n",
    "recall\n",
    "thresholds"
   ]
  },
  {
   "cell_type": "code",
   "execution_count": 7,
   "id": "b32bcca4",
   "metadata": {},
   "outputs": [
    {
     "data": {
      "text/plain": [
       "[<matplotlib.lines.Line2D at 0x1577ea70b20>]"
      ]
     },
     "execution_count": 7,
     "metadata": {},
     "output_type": "execute_result"
    },
    {
     "data": {
      "image/png": "[encoded data removed]",
      "text/plain": [
       "<Figure size 432x288 with 1 Axes>"
      ]
     },
     "metadata": {
      "needs_background": "light"
     },
     "output_type": "display_data"
    }
   ],
   "source": [
    "from matplotlib import pyplot as plt\n",
    "plt.plot(recall, precision)"
   ]
  },
  {
   "cell_type": "markdown",
   "id": "edb0ac5e",
   "metadata": {},
   "source": [
    "# 自己实现"
   ]
  },
  {
   "cell_type": "markdown",
   "id": "50a7b782",
   "metadata": {},
   "source": [
    "代码参考：sklearn源码  \n",
    "在代码实现层面，书中错误率与精度的二值函数可以用判断方法==来实现"
   ]
  },
  {
   "cell_type": "markdown",
   "id": "25a63984",
   "metadata": {},
   "source": [
    "## accuracy_score"
   ]
  },
  {
   "cell_type": "markdown",
   "id": "2a377e03",
   "metadata": {},
   "source": [
    "**np.average(a, axis=None, weights=None, returned=False):**求a的平均值  \n",
    "**np.dot：**点积  "
   ]
  },
  {
   "cell_type": "code",
   "execution_count": 8,
   "id": "4e09f572",
   "metadata": {},
   "outputs": [],
   "source": [
    "def accuracy_score_myown(y_true, y_pred, normalize=True, sample_weight=None):\n",
    "    sample_score = np.array(y_pred) == np.array(y_true)\n",
    "    if normalize:\n",
    "        return np.average(sample_score, weights = sample_weight)\n",
    "    elif sample_weight is not None:\n",
    "        return np.dot(sample_score, sample_weight)\n",
    "    else:\n",
    "        return sample_score.sum()"
   ]
  },
  {
   "cell_type": "code",
   "execution_count": 9,
   "id": "59e40e49",
   "metadata": {},
   "outputs": [
    {
     "data": {
      "text/plain": [
       "0.6"
      ]
     },
     "execution_count": 9,
     "metadata": {},
     "output_type": "execute_result"
    },
    {
     "data": {
      "text/plain": [
       "3"
      ]
     },
     "execution_count": 9,
     "metadata": {},
     "output_type": "execute_result"
    },
    {
     "data": {
      "text/plain": [
       "0.4"
      ]
     },
     "execution_count": 9,
     "metadata": {},
     "output_type": "execute_result"
    }
   ],
   "source": [
    "y_pred = [0, 2, 1, 3, 1]\n",
    "y_true = [0, 1, 2, 3, 1]\n",
    "accuracy_score_myown(y_true,y_pred)\n",
    "accuracy_score_myown(y_true, y_pred, normalize=False)\n",
    "accuracy_score_myown(y_true, y_pred, normalize=False, sample_weight = [0.1, 0.3, 0.3, 0.1, 0.2])"
   ]
  },
  {
   "cell_type": "markdown",
   "id": "749dee6c",
   "metadata": {},
   "source": [
    "## 查准率、查全率、F1"
   ]
  },
  {
   "cell_type": "markdown",
   "id": "684ce83d",
   "metadata": {},
   "source": [
    "查准率、查全率和f1都是基于混淆矩阵来计算的，scikit-learn中也提供了metric.confusion_matrix来计算混淆矩阵"
   ]
  },
  {
   "cell_type": "markdown",
   "id": "61dedada",
   "metadata": {},
   "source": [
    "**混淆矩阵coo_matrix((data, (i, j)), shape=(M, N)):**  \n",
    "**data：**就是原始矩阵中的数据；  \n",
    "**i：**就是行的指示符号，例如假设i=[0,1,2,3,4]，第1个元素是0，就代表data中第一个数据在第1行；  \n",
    "**j：**就是列的指示符号，例如假设j=[1,1,2,2,2]，第1个元素是1，就代表data中第一个数据在第2列；  \n",
    "**shape：**coo_matrix原始矩阵的形状，除了上述的有数据的行列，其他无数据处按照shape的形式补0。"
   ]
  },
  {
   "cell_type": "markdown",
   "id": "b97aff83",
   "metadata": {},
   "source": [
    "**ravel():**扁平化，即多维数据拉平为一维数组"
   ]
  },
  {
   "cell_type": "code",
   "execution_count": 10,
   "id": "9247733b",
   "metadata": {},
   "outputs": [],
   "source": [
    "from scipy.sparse import coo_matrix\n",
    "class metric_myown:\n",
    "    def __init__(self):\n",
    "        pass\n",
    "    \n",
    "    def confusion_matrix(self, y_true, y_pred, labels=None, sample_weight=None):\n",
    "        if labels is None:\n",
    "            labels = np.unique(y_pred + y_true)\n",
    "        else:\n",
    "            labels = np.asarray(labels)\n",
    "        n_labels = labels.size\n",
    "        if sample_weight is None:\n",
    "            sample_weight = np.ones(len(y_true), dtype = np.int64)\n",
    "        cm = coo_matrix((sample_weight,(y_true, y_pred)), shape = (n_labels, n_labels)).toarray()\n",
    "        return cm\n",
    "    \n",
    "    def binary_case(self, y_true, y_pred): # 即书中的表2.1\n",
    "        tn, fp, fn, tp = self.confusion_matrix(y_true, y_pred).ravel()\n",
    "        return tn, fp, fn, tp\n",
    "    \n",
    "    def precision_score_myown(self, y_true, y_pred):\n",
    "        tn, fp, fn, tp = self.binary_case(y_true, y_pred)\n",
    "        return tp/(tp+fp)\n",
    "    \n",
    "    def recall_score_myown(self, y_true, y_pred):\n",
    "        tn, fp, fn, tp = self.binary_case(y_true, y_pred)\n",
    "        return tp/(tp+fn)\n",
    "    \n",
    "    def f1_score_myown(self, y_ture, y_pred):\n",
    "        p = self.precision_score_myown(y_true, y_pred)\n",
    "        r = self.recall_score_myown(y_true, y_pred)\n",
    "        return 2*p*r/(p+r)"
   ]
  },
  {
   "cell_type": "code",
   "execution_count": 11,
   "id": "484144b2",
   "metadata": {},
   "outputs": [
    {
     "name": "stdout",
     "output_type": "stream",
     "text": [
      "precision:0.6\n",
      "recall:0.75\n",
      "f1:0.6666666666666665\n"
     ]
    }
   ],
   "source": [
    "y_pred = [0, 1, 1, 0, 1, 0, 0, 0, 1, 1]\n",
    "y_true = [0, 0, 1, 0, 1, 1, 0, 0, 0, 1]\n",
    "mm = metric_myown()\n",
    "cm = mm.confusion_matrix(y_true, y_pred)\n",
    "print('precision:{}'.format(mm.precision_score_myown(y_true, y_pred)))\n",
    "print('recall:{}'.format(mm.recall_score_myown(y_true, y_pred)))\n",
    "print('f1:{}'.format(mm.f1_score_myown(y_true, y_pred)))"
   ]
  },
  {
   "cell_type": "code",
   "execution_count": 12,
   "id": "abb97e81",
   "metadata": {},
   "outputs": [
    {
     "data": {
      "text/plain": [
       "array([[4, 2],\n",
       "       [1, 3]], dtype=int64)"
      ]
     },
     "execution_count": 12,
     "metadata": {},
     "output_type": "execute_result"
    }
   ],
   "source": [
    "cm"
   ]
  },
  {
   "cell_type": "markdown",
   "id": "a407f397",
   "metadata": {},
   "source": [
    "## precision_recall_curve"
   ]
  },
  {
   "cell_type": "markdown",
   "id": "78aebb9b",
   "metadata": {},
   "source": [
    "只针对书中表2.1展示的二分情况"
   ]
  },
  {
   "cell_type": "markdown",
   "id": "f62dc566",
   "metadata": {},
   "source": [
    "**np.argsort(a, axis=-1, kind='quicksort', order=None)：**将a按照从小到大排序，然后输出对应的索引。  \n",
    "**numpy.searchsorted(a, v, side='left', sorter=None)：**在的数组a中左侧插入v，并返回v的索引。   "
   ]
  },
  {
   "cell_type": "code",
   "execution_count": 38,
   "id": "d3b8c0bb",
   "metadata": {},
   "outputs": [],
   "source": [
    "def precision_recall_curve(y_true, probas_pred, *, pos_label=None, sample_weight=None):\n",
    "    if pos_label is None:\n",
    "        pos_label = 1\n",
    "    #y_true = (y_true == pos_label)\n",
    "\n",
    "    desc_score_indices = np.argsort(-y_scores) # 负号就变成了从大到小排序\n",
    "    y_scores = y_scores[desc_score_indices]\n",
    "    y_true = y_true[desc_score_indices]\n",
    "\n",
    "    if sample_weight is not None:\n",
    "        weight = sample_weight[desc_score_indices]\n",
    "    else:\n",
    "        weight = 1\n",
    "\n",
    "    tps = np.cumsum(y_true * weight) # tp是真正例，因此tps就是y_true依次累计求和\n",
    "    fps = np.cumsum((1 - y_true) * weight) #fp是假正例，因此fps就是(1-y_true)依次累计求和\n",
    "        \n",
    "    precision = tps / (tps + fps)\n",
    "    precision[np.isnan(precision)] = 0\n",
    "    recall = tps / tps[-1]\n",
    "    \n",
    "    last_ind = tps.searchsorted(tps[-1])\n",
    "    sl = slice(last_ind, None, -1)\n",
    "    return np.r_[precision[sl], 1], np.r_[recall[sl], 0], y_scores[sl]"
   ]
  },
  {
   "cell_type": "code",
   "execution_count": 79,
   "id": "fced26aa",
   "metadata": {},
   "outputs": [],
   "source": [
    "y_true = np.array([0, 1, 0, 1, 1, 0])\n",
    "y_scores = np.array([0.1, 0.6, 0.4, 0.35, 0.8, 0.72])\n",
    "#precision, recall, thresholds = precision_recall_curve(y_true, y_scores)"
   ]
  },
  {
   "cell_type": "code",
   "execution_count": 80,
   "id": "b800fe65",
   "metadata": {},
   "outputs": [],
   "source": [
    "pos_label=None\n",
    "sample_weight=None\n",
    "\n",
    "if pos_label is None:\n",
    "    pos_label = 1\n",
    "#y_true = (y_true == pos_label)\n",
    "\n",
    "desc_score_indices = np.argsort(-y_scores) # 负号就变成了从大到小排序\n",
    "y_scores = y_scores[desc_score_indices]\n",
    "y_true = y_true[desc_score_indices]\n",
    "\n",
    "if sample_weight is not None:\n",
    "    weight = sample_weight[desc_score_indices]\n",
    "else:\n",
    "    weight = 1\n",
    "    \n",
    "tps = np.cumsum(y_true * weight)\n",
    "fps = np.cumsum((1 - y_true) * weight)\n",
    "\n",
    "precision = tps / (tps + fps)\n",
    "precision[np.isnan(precision)] = 0\n",
    "recall = tps / tps[-1]\n",
    "last_ind = tps.searchsorted(tps[-1])\n",
    "sl = slice(last_ind, None, -1)"
   ]
  },
  {
   "cell_type": "code",
   "execution_count": 81,
   "id": "a8b55a96",
   "metadata": {
    "scrolled": false
   },
   "outputs": [
    {
     "data": {
      "text/plain": [
       "array([0.8 , 0.72, 0.6 , 0.4 , 0.35, 0.1 ])"
      ]
     },
     "execution_count": 81,
     "metadata": {},
     "output_type": "execute_result"
    },
    {
     "data": {
      "text/plain": [
       "array([1, 0, 1, 0, 1, 0])"
      ]
     },
     "execution_count": 81,
     "metadata": {},
     "output_type": "execute_result"
    },
    {
     "data": {
      "text/plain": [
       "array([4, 5, 1, 2, 3, 0], dtype=int64)"
      ]
     },
     "execution_count": 81,
     "metadata": {},
     "output_type": "execute_result"
    },
    {
     "data": {
      "text/plain": [
       "array([1, 1, 2, 2, 3, 3], dtype=int32)"
      ]
     },
     "execution_count": 81,
     "metadata": {},
     "output_type": "execute_result"
    },
    {
     "data": {
      "text/plain": [
       "array([0, 1, 1, 2, 2, 3], dtype=int32)"
      ]
     },
     "execution_count": 81,
     "metadata": {},
     "output_type": "execute_result"
    },
    {
     "data": {
      "text/plain": [
       "array([1.        , 0.5       , 0.66666667, 0.5       , 0.6       ,\n",
       "       0.5       ])"
      ]
     },
     "execution_count": 81,
     "metadata": {},
     "output_type": "execute_result"
    },
    {
     "data": {
      "text/plain": [
       "array([0.33333333, 0.33333333, 0.66666667, 0.66666667, 1.        ,\n",
       "       1.        ])"
      ]
     },
     "execution_count": 81,
     "metadata": {},
     "output_type": "execute_result"
    },
    {
     "data": {
      "text/plain": [
       "4"
      ]
     },
     "execution_count": 81,
     "metadata": {},
     "output_type": "execute_result"
    },
    {
     "data": {
      "text/plain": [
       "slice(4, None, -1)"
      ]
     },
     "execution_count": 81,
     "metadata": {},
     "output_type": "execute_result"
    },
    {
     "data": {
      "text/plain": [
       "array([0.6       , 0.5       , 0.66666667, 0.5       , 1.        ,\n",
       "       1.        ])"
      ]
     },
     "execution_count": 81,
     "metadata": {},
     "output_type": "execute_result"
    },
    {
     "data": {
      "text/plain": [
       "array([1.        , 0.66666667, 0.66666667, 0.33333333, 0.33333333,\n",
       "       0.        ])"
      ]
     },
     "execution_count": 81,
     "metadata": {},
     "output_type": "execute_result"
    },
    {
     "data": {
      "text/plain": [
       "array([0.35, 0.4 , 0.6 , 0.72, 0.8 ])"
      ]
     },
     "execution_count": 81,
     "metadata": {},
     "output_type": "execute_result"
    }
   ],
   "source": [
    "y_scores\n",
    "y_true\n",
    "desc_score_indices\n",
    "tps\n",
    "fps\n",
    "precision\n",
    "recall\n",
    "last_ind\n",
    "sl\n",
    "np.r_[precision[sl], 1]\n",
    "np.r_[recall[sl], 0]\n",
    "y_scores[sl]"
   ]
  },
  {
   "cell_type": "code",
   "execution_count": 17,
   "id": "2656400c",
   "metadata": {},
   "outputs": [
    {
     "ename": "NameError",
     "evalue": "name 'array' is not defined",
     "output_type": "error",
     "traceback": [
      "\u001b[1;31m---------------------------------------------------------------------------\u001b[0m",
      "\u001b[1;31mNameError\u001b[0m                                 Traceback (most recent call last)",
      "\u001b[1;32m~\\AppData\\Local\\Temp/ipykernel_14996/3173557642.py\u001b[0m in \u001b[0;36m<module>\u001b[1;34m\u001b[0m\n\u001b[1;32m----> 1\u001b[1;33m array([0.6       , 0.5       , 0.66666667, 0.5       , 1.        ,\n\u001b[0m\u001b[0;32m      2\u001b[0m        1.        ])\n\u001b[0;32m      3\u001b[0m array([1.        , 0.66666667, 0.66666667, 0.33333333, 0.33333333,\n\u001b[0;32m      4\u001b[0m        0.        ])\n",
      "\u001b[1;31mNameError\u001b[0m: name 'array' is not defined"
     ]
    }
   ],
   "source": [
    "array([0.6       , 0.5       , 0.66666667, 0.5       , 1.        ,\n",
    "       1.        ])\n",
    "array([1.        , 0.66666667, 0.66666667, 0.33333333, 0.33333333,\n",
    "       0.        ])\n",
    "array([0.35, 0.4 , 0.6 , 0.72, 0.8 ])"
   ]
  },
  {
   "cell_type": "code",
   "execution_count": null,
   "id": "43e729c8",
   "metadata": {},
   "outputs": [],
   "source": [
    "np.arange(len(y_true)"
   ]
  },
  {
   "cell_type": "code",
   "execution_count": 18,
   "id": "8217a0cb",
   "metadata": {},
   "outputs": [
    {
     "data": {
      "text/plain": [
       "[<matplotlib.lines.Line2D at 0x1577fc22d60>]"
      ]
     },
     "execution_count": 18,
     "metadata": {},
     "output_type": "execute_result"
    },
    {
     "data": {
      "image/png": "[encoded data removed]",
      "text/plain": [
       "<Figure size 432x288 with 1 Axes>"
      ]
     },
     "metadata": {
      "needs_background": "light"
     },
     "output_type": "display_data"
    }
   ],
   "source": [
    "plt.plot(recall, precision)"
   ]
  },
  {
   "cell_type": "code",
   "execution_count": null,
   "id": "b6a58698",
   "metadata": {},
   "outputs": [],
   "source": []
  }
 ],
 "metadata": {
  "kernelspec": {
   "display_name": "Python 3 (ipykernel)",
   "language": "python",
   "name": "python3"
  },
  "language_info": {
   "codemirror_mode": {
    "name": "ipython",
    "version": 3
   },
   "file_extension": ".py",
   "mimetype": "text/x-python",
   "name": "python",
   "nbconvert_exporter": "python",
   "pygments_lexer": "ipython3",
   "version": "3.9.7"
  },
  "toc": {
   "base_numbering": 1,
   "nav_menu": {},
   "number_sections": true,
   "sideBar": true,
   "skip_h1_title": false,
   "title_cell": "Table of Contents",
   "title_sidebar": "Contents",
   "toc_cell": false,
   "toc_position": {},
   "toc_section_display": true,
   "toc_window_display": false
  }
 },
 "nbformat": 4,
 "nbformat_minor": 5
}
