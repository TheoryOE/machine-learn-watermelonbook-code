{
 "cells": [
  {
   "cell_type": "markdown",
   "metadata": {},
   "source": [
    "# 准备数据"
   ]
  },
  {
   "cell_type": "code",
   "execution_count": 1,
   "metadata": {},
   "outputs": [
    {
     "name": "stdout",
     "output_type": "stream",
     "text": [
      "x:[43 10 49 28 20  0 46 30  8 21 31 24 23  9 18 41 32  5 19 18] y:[0 0 0 0 0 0 1 0 1 0 1 1 1 0 0 0 0 0 0 0]\n"
     ]
    }
   ],
   "source": [
    "import numpy as np\n",
    "x = np.array([43, 10, 49, 28, 20,  0, 46, 30,  8, 21, 31, 24, 23, 9, 18, 41, 32, 5, 19, 18])\n",
    "y = np.array([0, 0, 0, 0, 0, 0, 1, 0, 1, 0, 1, 1, 1, 0, 0, 0, 0, 0, 0, 0])\n",
    "print(\"x:%s y:%s\"%(x, y))"
   ]
  },
  {
   "cell_type": "markdown",
   "metadata": {},
   "source": [
    "# sklearn实现"
   ]
  },
  {
   "cell_type": "markdown",
   "metadata": {},
   "source": [
    "## 留出法"
   ]
  },
  {
   "cell_type": "markdown",
   "metadata": {},
   "source": [
    "### 随机采样"
   ]
  },
  {
   "cell_type": "markdown",
   "metadata": {},
   "source": [
    "#### **train_test_split(*arrays, test_size=None, train_size=None, random_state=None, shuffle=True, stratify=None):**  \n",
    "**arrays：**包含X,y两个值，X为样本特征值，y为标签值。   \n",
    "**test_size：**如果是浮点数则是测试样本占比，如果是整数则是测试样本数量，如果test_size和train_size均为None，则test_size默认设为0.25。  \n",
    "**train_size：**训练样本比例或数量，如果不设置，则=1-test_size。  \n",
    "**random_state：**随机数的种子。随机数种子：该组随机数的编号，保证每次划分得到相同的结果。  \n",
    "**shuffle：**为True，则划分前打乱数据。如果为False，则stratify必须为None。  \n",
    "**stratify：**不为None时，划分得测试集和训练集中，类标签比例同stratify指定的类标签比例相同。可用于处理不均衡数据集,类似分层采样。"
   ]
  },
  {
   "cell_type": "markdown",
   "metadata": {},
   "source": [
    "**N.B.：**  注意stratify用法"
   ]
  },
  {
   "cell_type": "code",
   "execution_count": 2,
   "metadata": {
    "scrolled": true
   },
   "outputs": [
    {
     "name": "stdout",
     "output_type": "stream",
     "text": [
      "x_train:[ 8  0 24 28 19 32  9 49 21 18 20 23 30 31 18 46] x_test:[43  5 41 10]\n",
      "y_train:[1 0 1 0 0 0 0 0 0 0 0 1 0 1 0 1] y_test:[0 0 0 0]\n"
     ]
    }
   ],
   "source": [
    "from sklearn.model_selection import train_test_split\n",
    "x_train, x_test, y_train, y_test = train_test_split(x, y, test_size = 0.2, shuffle = True, random_state = 42)\n",
    "print(\"x_train:%s x_test:%s\"%(x_train, x_test))\n",
    "print(\"y_train:%s y_test:%s\"%(y_train, y_test))"
   ]
  },
  {
   "cell_type": "code",
   "execution_count": 3,
   "metadata": {},
   "outputs": [
    {
     "name": "stdout",
     "output_type": "stream",
     "text": [
      "x_train:[46  8 49 43 18 20 19 21 23 18  0 32  9 24 41 10] x_test:[ 5 31 30 28]\n",
      "y_train:[1 1 0 0 0 0 0 0 1 0 0 0 0 1 0 0] y_test:[0 1 0 0]\n"
     ]
    }
   ],
   "source": [
    "from sklearn.model_selection import train_test_split\n",
    "x_train, x_test, y_train, y_test = train_test_split(x, y, test_size = 0.2, shuffle = True, random_state = 42, stratify = y)\n",
    "print(\"x_train:%s x_test:%s\"%(x_train, x_test))\n",
    "print(\"y_train:%s y_test:%s\"%(y_train, y_test))"
   ]
  },
  {
   "cell_type": "markdown",
   "metadata": {},
   "source": [
    "### 分层采样"
   ]
  },
  {
   "cell_type": "markdown",
   "metadata": {},
   "source": [
    "#### **StratifiedShuffleSplit(n_splits=10, *, test_size=None, train_size=None, random_state=None):**  \n",
    "**n_splits：**划分组数。  \n",
    "**test_size：**如果是浮点数则是测试样本占比，如果是整数则是测试样本数量，如果test_size和train_size均为None，则test_size默认设为0.1。   \n",
    "**train_size：**训练样本比例或数量，如果不设置，则=1-test_size。  \n",
    "**random_state：**随机数的种子。随机数种子：该组随机数的编号，保证每次划分得到相同的结果。  "
   ]
  },
  {
   "cell_type": "markdown",
   "metadata": {},
   "source": [
    "**enumerate()：**该函数用于将一个可遍历的数据对象(如列表、元组或字符串)组合为一个索引序列，同时列出数据和数据下标，一般用在 for 循环当中。   \n",
    "例如：  \n",
    "seasons = ['Spring', 'Summer', 'Fall', 'Winter']  \n",
    "list(enumerate(seasons))  \n",
    "输出：[(0, 'Spring'), (1, 'Summer'), (2, 'Fall'), (3, 'Winter')]"
   ]
  },
  {
   "cell_type": "markdown",
   "metadata": {},
   "source": [
    "**N.B.：**以分类任务为例，样本的分布由样本标签y决定。因此，当train_test_split的stratify参数设置为y时，其划分效果与StratifiedShuffleSplit相同"
   ]
  },
  {
   "cell_type": "code",
   "execution_count": 4,
   "metadata": {},
   "outputs": [
    {
     "name": "stdout",
     "output_type": "stream",
     "text": [
      "**************fold 0**************\n",
      "x_train:[46  8 49 43 18 20 19 21 23 18  0 32  9 24 41 10] x_test:[ 5 31 30 28]\n",
      "y_train:[1 1 0 0 0 0 0 0 1 0 0 0 0 1 0 0] y_test:[0 1 0 0]\n",
      "**************fold 1**************\n",
      "x_train:[23  8 32 30 18 21  0 31  5 20 43 10 41 46  9 28] x_test:[49 19 18 24]\n",
      "y_train:[1 1 0 0 0 0 0 1 0 0 0 0 0 1 0 0] y_test:[0 0 0 1]\n",
      "**************fold 2**************\n",
      "x_train:[49 32 21 24 43  8 31 41 19 20 28  5 10  9 30 46] x_test:[23 18 18  0]\n",
      "y_train:[0 0 0 1 0 1 1 0 0 0 0 0 0 0 0 1] y_test:[1 0 0 0]\n",
      "**************fold 3**************\n",
      "x_train:[18 32  0 10 20 41 28 30  5 24  8 46  9 31 19 21] x_test:[23 49 43 18]\n",
      "y_train:[0 0 0 0 0 0 0 0 0 1 1 1 0 1 0 0] y_test:[1 0 0 0]\n",
      "**************fold 4**************\n",
      "x_train:[23  5  9 28 24 32  0  8 18 41 49 21 19 46 20 10] x_test:[18 31 43 30]\n",
      "y_train:[1 0 0 0 1 0 0 1 0 0 0 0 0 1 0 0] y_test:[0 1 0 0]\n"
     ]
    }
   ],
   "source": [
    "from sklearn.model_selection import StratifiedShuffleSplit\n",
    "ss = StratifiedShuffleSplit(n_splits=5, test_size=0.2, random_state=42)\n",
    "for fold_, (train_index, valid_index) in enumerate(ss.split(x, y)):\n",
    "    print(\"**************fold {}**************\".format(fold_))\n",
    "    print(\"x_train:%s x_test:%s\"%(x[train_index], x[valid_index]))\n",
    "    print(\"y_train:%s y_test:%s\"%(y[train_index], y[valid_index]))"
   ]
  },
  {
   "cell_type": "markdown",
   "metadata": {},
   "source": [
    "## 交叉验证法"
   ]
  },
  {
   "cell_type": "markdown",
   "metadata": {},
   "source": [
    "### 随机采样"
   ]
  },
  {
   "cell_type": "markdown",
   "metadata": {},
   "source": [
    "#### **KFold(n_splits=5, *, shuffle=False, random_state=None):**  \n",
    "**n_splits：**划分组数  \n",
    "**shuffle：**为True，则划分前打乱数据。  \n",
    "**random_state：**随机数的种子。随机数种子：该组随机数的编号，保证每次划分得到相同的结果。   "
   ]
  },
  {
   "cell_type": "markdown",
   "metadata": {},
   "source": [
    "**N.B.：**KFold与StratifiedShuffleSplit代码类似，但是两者划分原理并不相同，以n_splits=5为例:  \n",
    "&emsp;&emsp;&emsp;StratifiedShuffleSplit是将数据划分为2份，1份为测试集，1份训练集，重复划分5次；  \n",
    "&emsp;&emsp;&emsp;KFold是将数据划分5份，1份为测试集，4份为训练集(因此KFold没有test_size参数,因为他的test_size就是1/n_splits)，重复训练5次；  \n",
    "&emsp;&emsp;&emsp;总结来说StratifiedShuffleSplit是5次重复验证，而KFold是5折5次交叉验证。"
   ]
  },
  {
   "cell_type": "code",
   "execution_count": 5,
   "metadata": {},
   "outputs": [
    {
     "name": "stdout",
     "output_type": "stream",
     "text": [
      "**************fold 0**************\n",
      "x_train:[49 28 20  0 46 30  8 21 31 24 23  9 18 32 19 18] x_test:[43 10 41  5]\n",
      "y_train:[0 0 0 0 1 0 1 0 1 1 1 0 0 0 0 0] y_test:[0 0 0 0]\n",
      "**************fold 1**************\n",
      "x_train:[43 10 49 20 46 30 21 31 23  9 18 41 32  5 19 18] x_test:[28  0  8 24]\n",
      "y_train:[0 0 0 0 1 0 0 1 1 0 0 0 0 0 0 0] y_test:[0 0 1 1]\n",
      "**************fold 2**************\n",
      "x_train:[43 10 28 20  0 46 30  8 21 31 24 23 18 41  5 18] x_test:[49  9 32 19]\n",
      "y_train:[0 0 0 0 0 1 0 1 0 1 1 1 0 0 0 0] y_test:[0 0 0 0]\n",
      "**************fold 3**************\n",
      "x_train:[43 10 49 28  0 46 30  8 31 24  9 18 41 32  5 19] x_test:[20 21 23 18]\n",
      "y_train:[0 0 0 0 0 1 0 1 1 1 0 0 0 0 0 0] y_test:[0 0 1 0]\n",
      "**************fold 4**************\n",
      "x_train:[43 10 49 28 20  0  8 21 24 23  9 41 32  5 19 18] x_test:[46 30 31 18]\n",
      "y_train:[0 0 0 0 0 0 1 0 1 1 0 0 0 0 0 0] y_test:[1 0 1 0]\n"
     ]
    }
   ],
   "source": [
    "from sklearn.model_selection import KFold\n",
    "kf = KFold(n_splits=5, shuffle=True, random_state=42)\n",
    "for fold_, (train_index, valid_index) in enumerate(kf.split(x, y)):\n",
    "    print(\"**************fold {}**************\".format(fold_))\n",
    "    print(\"x_train:%s x_test:%s\"%(x[train_index], x[valid_index]))\n",
    "    print(\"y_train:%s y_test:%s\"%(y[train_index], y[valid_index]))"
   ]
  },
  {
   "cell_type": "markdown",
   "metadata": {},
   "source": [
    "#### **GroupKFold(n_splits=5):**  \n",
    "**n_splits：**划分组数  "
   ]
  },
  {
   "cell_type": "markdown",
   "metadata": {},
   "source": [
    "**N.B.：**group的作用：group里相同的数必然被分到一组，以n_splits=5为例:  \n",
    "&emsp;&emsp;&emsp;共20个数据，则测试集里4个数据，因此4个5必然被同时分入测试集；  \n",
    "&emsp;&emsp;&emsp;4个5在group中的索引是4 5 14 15，因此测试集的数据索引就是[4 5 14 15]，x中对应位置的数据就是[20 0 18 41]；  \n",
    "&emsp;&emsp;&emsp;4个4，4个3，4个2，4个1同理。"
   ]
  },
  {
   "cell_type": "code",
   "execution_count": 6,
   "metadata": {
    "scrolled": true
   },
   "outputs": [
    {
     "name": "stdout",
     "output_type": "stream",
     "text": [
      "**************fold 0**************\n",
      "x_train:[43 10 49 28 46 30  8 21 31 24 23  9 32  5 19 18] x_test:[20  0 18 41]\n",
      "y_train:[0 0 0 0 1 0 1 0 1 1 1 0 0 0 0 0] y_test:[0 0 0 0]\n",
      "index_train:[ 0  1  2  3  6  7  8  9 10 11 12 13 16 17 18 19] index_test:[ 4  5 14 15]\n",
      "group_train:[1 2 3 4 4 3 2 1 1 2 3 4 4 3 2 1] group_test:[5 5 5 5]\n",
      "**************fold 1**************\n",
      "x_train:[43 10 49 20  0 30  8 21 31 24 23 18 41  5 19 18] x_test:[28 46  9 32]\n",
      "y_train:[0 0 0 0 0 0 1 0 1 1 1 0 0 0 0 0] y_test:[0 1 0 0]\n",
      "index_train:[ 0  1  2  4  5  7  8  9 10 11 12 14 15 17 18 19] index_test:[ 3  6 13 16]\n",
      "group_train:[1 2 3 5 5 3 2 1 1 2 3 5 5 3 2 1] group_test:[4 4 4 4]\n",
      "**************fold 2**************\n",
      "x_train:[43 10 28 20  0 46  8 21 31 24  9 18 41 32 19 18] x_test:[49 30 23  5]\n",
      "y_train:[0 0 0 0 0 1 1 0 1 1 0 0 0 0 0 0] y_test:[0 0 1 0]\n",
      "index_train:[ 0  1  3  4  5  6  8  9 10 11 13 14 15 16 18 19] index_test:[ 2  7 12 17]\n",
      "group_train:[1 2 4 5 5 4 2 1 1 2 4 5 5 4 2 1] group_test:[3 3 3 3]\n",
      "**************fold 3**************\n",
      "x_train:[43 49 28 20  0 46 30 21 31 23  9 18 41 32  5 18] x_test:[10  8 24 19]\n",
      "y_train:[0 0 0 0 0 1 0 0 1 1 0 0 0 0 0 0] y_test:[0 1 1 0]\n",
      "index_train:[ 0  2  3  4  5  6  7  9 10 12 13 14 15 16 17 19] index_test:[ 1  8 11 18]\n",
      "group_train:[1 3 4 5 5 4 3 1 1 3 4 5 5 4 3 1] group_test:[2 2 2 2]\n",
      "**************fold 4**************\n",
      "x_train:[10 49 28 20  0 46 30  8 24 23  9 18 41 32  5 19] x_test:[43 21 31 18]\n",
      "y_train:[0 0 0 0 0 1 0 1 1 1 0 0 0 0 0 0] y_test:[0 0 1 0]\n",
      "index_train:[ 1  2  3  4  5  6  7  8 11 12 13 14 15 16 17 18] index_test:[ 0  9 10 19]\n",
      "group_train:[2 3 4 5 5 4 3 2 2 3 4 5 5 4 3 2] group_test:[1 1 1 1]\n"
     ]
    }
   ],
   "source": [
    "from sklearn.model_selection import GroupKFold\n",
    "gkf = GroupKFold(n_splits=5)\n",
    "groups = np.array([1, 2, 3, 4, 5, 5, 4, 3, 2, 1, 1, 2, 3, 4, 5, 5, 4, 3, 2, 1])\n",
    "for fold_, (train_index, valid_index) in enumerate(gkf.split(x, y, groups=groups)):\n",
    "    print(\"**************fold {}**************\".format(fold_))\n",
    "    print(\"x_train:%s x_test:%s\"%(x[train_index], x[valid_index]))\n",
    "    print(\"y_train:%s y_test:%s\"%(y[train_index], y[valid_index]))\n",
    "    print(\"index_train:%s index_test:%s\"%(train_index, valid_index))\n",
    "    print(\"group_train:%s group_test:%s\"%(groups[train_index], groups[valid_index]))"
   ]
  },
  {
   "cell_type": "markdown",
   "metadata": {},
   "source": [
    "#### **RepeatedKFold(*, n_splits=5, n_repeats=10, random_state=None):**  \n",
    "**n_splits：**划分组数。  \n",
    "**n_repeats：**重复次数。  \n",
    "**random_state：**随机数的种子。随机数种子：该组随机数的编号，保证每次划分得到相同的结果。 "
   ]
  },
  {
   "cell_type": "markdown",
   "metadata": {},
   "source": [
    "**N.B.：**此函数就是多次重复的交叉验证"
   ]
  },
  {
   "cell_type": "code",
   "execution_count": 7,
   "metadata": {
    "scrolled": true
   },
   "outputs": [
    {
     "name": "stdout",
     "output_type": "stream",
     "text": [
      "**************fold 0**************\n",
      "x_train:[49 28 20  0 46 30  8 21 31 24 23  9 18 32 19 18] x_test:[43 10 41  5]\n",
      "y_train:[0 0 0 0 1 0 1 0 1 1 1 0 0 0 0 0] y_test:[0 0 0 0]\n",
      "**************fold 1**************\n",
      "x_train:[43 10 49 20 46 30 21 31 23  9 18 41 32  5 19 18] x_test:[28  0  8 24]\n",
      "y_train:[0 0 0 0 1 0 0 1 1 0 0 0 0 0 0 0] y_test:[0 0 1 1]\n",
      "**************fold 2**************\n",
      "x_train:[43 10 28 20  0 46 30  8 21 31 24 23 18 41  5 18] x_test:[49  9 32 19]\n",
      "y_train:[0 0 0 0 0 1 0 1 0 1 1 1 0 0 0 0] y_test:[0 0 0 0]\n",
      "**************fold 3**************\n",
      "x_train:[43 10 49 28  0 46 30  8 31 24  9 18 41 32  5 19] x_test:[20 21 23 18]\n",
      "y_train:[0 0 0 0 0 1 0 1 1 1 0 0 0 0 0 0] y_test:[0 0 1 0]\n",
      "**************fold 4**************\n",
      "x_train:[43 10 49 28 20  0  8 21 24 23  9 41 32  5 19 18] x_test:[46 30 31 18]\n",
      "y_train:[0 0 0 0 0 0 1 0 1 1 0 0 0 0 0 0] y_test:[1 0 1 0]\n",
      "**************fold 5**************\n",
      "x_train:[43 10 49 28 20 46 30  8 21 31 24 23  9 18  5 19] x_test:[ 0 41 32 18]\n",
      "y_train:[0 0 0 0 0 1 0 1 0 1 1 1 0 0 0 0] y_test:[0 0 0 0]\n",
      "**************fold 6**************\n",
      "x_train:[43 10 49 28  0 46  8 21 31 24  9 41 32  5 19 18] x_test:[20 30 23 18]\n",
      "y_train:[0 0 0 0 0 1 1 0 1 1 0 0 0 0 0 0] y_test:[0 0 1 0]\n",
      "**************fold 7**************\n",
      "x_train:[43 10 20  0 30  8 31 24 23  9 18 41 32  5 19 18] x_test:[49 28 46 21]\n",
      "y_train:[0 0 0 0 0 1 1 1 1 0 0 0 0 0 0 0] y_test:[0 0 1 0]\n",
      "**************fold 8**************\n",
      "x_train:[43 10 49 28 20  0 46 30 21 24 23 18 41 32  5 18] x_test:[ 8 31  9 19]\n",
      "y_train:[0 0 0 0 0 0 1 0 0 1 1 0 0 0 0 0] y_test:[1 1 0 0]\n",
      "**************fold 9**************\n",
      "x_train:[49 28 20  0 46 30  8 21 31 23  9 18 41 32 19 18] x_test:[43 10 24  5]\n",
      "y_train:[0 0 0 0 1 0 1 0 1 1 0 0 0 0 0 0] y_test:[0 0 1 0]\n"
     ]
    }
   ],
   "source": [
    "from sklearn.model_selection import RepeatedKFold\n",
    "rkf = RepeatedKFold(n_splits=5,n_repeats=2, random_state=42)\n",
    "for fold_, (train_index, valid_index) in enumerate(rkf.split(x, y)):\n",
    "    print(\"**************fold {}**************\".format(fold_))\n",
    "    print(\"x_train:%s x_test:%s\"%(x[train_index], x[valid_index]))\n",
    "    print(\"y_train:%s y_test:%s\"%(y[train_index], y[valid_index]))"
   ]
  },
  {
   "cell_type": "markdown",
   "metadata": {},
   "source": [
    "### 分层采样"
   ]
  },
  {
   "cell_type": "markdown",
   "metadata": {},
   "source": [
    "#### **StratifiedKFold(n_splits=5, *, shuffle=False, random_state=None):**  \n",
    "**n_splits：**划分组数  \n",
    "**shuffle：**为True，则划分前打乱数据。  \n",
    "**random_state：**随机数的种子。随机数种子：该组随机数的编号，保证每次划分得到相同的结果。 "
   ]
  },
  {
   "cell_type": "code",
   "execution_count": 8,
   "metadata": {},
   "outputs": [
    {
     "name": "stdout",
     "output_type": "stream",
     "text": [
      "**************fold 0**************\n",
      "x_train:[43 10 28 20  0 46  8 24 23  9 18 41 32  5 19 18] x_test:[49 30 21 31]\n",
      "y_train:[0 0 0 0 0 1 1 1 1 0 0 0 0 0 0 0] y_test:[0 0 0 1]\n",
      "**************fold 1**************\n",
      "x_train:[43 10 49 28  0 46 30  8 21 31 23  9 41 32  5 18] x_test:[20 24 18 19]\n",
      "y_train:[0 0 0 0 0 1 0 1 0 1 1 0 0 0 0 0] y_test:[0 1 0 0]\n",
      "**************fold 2**************\n",
      "x_train:[43 10 49 28 20 46 30  8 21 31 24  9 18 32  5 19] x_test:[ 0 23 41 18]\n",
      "y_train:[0 0 0 0 0 1 0 1 0 1 1 0 0 0 0 0] y_test:[0 1 0 0]\n",
      "**************fold 3**************\n",
      "x_train:[49 28 20  0 46 30 21 31 24 23  9 18 41  5 19 18] x_test:[43 10  8 32]\n",
      "y_train:[0 0 0 0 1 0 0 1 1 1 0 0 0 0 0 0] y_test:[0 0 1 0]\n",
      "**************fold 4**************\n",
      "x_train:[43 10 49 20  0 30  8 21 31 24 23 18 41 32 19 18] x_test:[28 46  9  5]\n",
      "y_train:[0 0 0 0 0 0 1 0 1 1 1 0 0 0 0 0] y_test:[0 1 0 0]\n"
     ]
    }
   ],
   "source": [
    "from sklearn.model_selection import StratifiedKFold\n",
    "skf = StratifiedKFold(n_splits=5, shuffle=True, random_state=42)\n",
    "for fold_, (train_index, valid_index) in enumerate(skf.split(x, y)):\n",
    "    print(\"**************fold {}**************\".format(fold_))\n",
    "    print(\"x_train:%s x_test:%s\"%(x[train_index], x[valid_index]))\n",
    "    print(\"y_train:%s y_test:%s\"%(y[train_index], y[valid_index]))"
   ]
  },
  {
   "cell_type": "markdown",
   "metadata": {},
   "source": [
    "### 留一法"
   ]
  },
  {
   "cell_type": "code",
   "execution_count": 9,
   "metadata": {
    "scrolled": true
   },
   "outputs": [
    {
     "name": "stdout",
     "output_type": "stream",
     "text": [
      "**************fold 0**************\n",
      "x_train:[10 49 28 20  0 46 30  8 21 31 24 23  9 18 41 32  5 19 18] x_test:[43]\n",
      "y_train:[0 0 0 0 0 1 0 1 0 1 1 1 0 0 0 0 0 0 0] y_test:[0]\n",
      "**************fold 1**************\n",
      "x_train:[43 49 28 20  0 46 30  8 21 31 24 23  9 18 41 32  5 19 18] x_test:[10]\n",
      "y_train:[0 0 0 0 0 1 0 1 0 1 1 1 0 0 0 0 0 0 0] y_test:[0]\n",
      "**************fold 2**************\n",
      "x_train:[43 10 28 20  0 46 30  8 21 31 24 23  9 18 41 32  5 19 18] x_test:[49]\n",
      "y_train:[0 0 0 0 0 1 0 1 0 1 1 1 0 0 0 0 0 0 0] y_test:[0]\n",
      "**************fold 3**************\n",
      "x_train:[43 10 49 20  0 46 30  8 21 31 24 23  9 18 41 32  5 19 18] x_test:[28]\n",
      "y_train:[0 0 0 0 0 1 0 1 0 1 1 1 0 0 0 0 0 0 0] y_test:[0]\n",
      "**************fold 4**************\n",
      "x_train:[43 10 49 28  0 46 30  8 21 31 24 23  9 18 41 32  5 19 18] x_test:[20]\n",
      "y_train:[0 0 0 0 0 1 0 1 0 1 1 1 0 0 0 0 0 0 0] y_test:[0]\n",
      "**************fold 5**************\n",
      "x_train:[43 10 49 28 20 46 30  8 21 31 24 23  9 18 41 32  5 19 18] x_test:[0]\n",
      "y_train:[0 0 0 0 0 1 0 1 0 1 1 1 0 0 0 0 0 0 0] y_test:[0]\n",
      "**************fold 6**************\n",
      "x_train:[43 10 49 28 20  0 30  8 21 31 24 23  9 18 41 32  5 19 18] x_test:[46]\n",
      "y_train:[0 0 0 0 0 0 0 1 0 1 1 1 0 0 0 0 0 0 0] y_test:[1]\n",
      "**************fold 7**************\n",
      "x_train:[43 10 49 28 20  0 46  8 21 31 24 23  9 18 41 32  5 19 18] x_test:[30]\n",
      "y_train:[0 0 0 0 0 0 1 1 0 1 1 1 0 0 0 0 0 0 0] y_test:[0]\n",
      "**************fold 8**************\n",
      "x_train:[43 10 49 28 20  0 46 30 21 31 24 23  9 18 41 32  5 19 18] x_test:[8]\n",
      "y_train:[0 0 0 0 0 0 1 0 0 1 1 1 0 0 0 0 0 0 0] y_test:[1]\n",
      "**************fold 9**************\n",
      "x_train:[43 10 49 28 20  0 46 30  8 31 24 23  9 18 41 32  5 19 18] x_test:[21]\n",
      "y_train:[0 0 0 0 0 0 1 0 1 1 1 1 0 0 0 0 0 0 0] y_test:[0]\n",
      "**************fold 10**************\n",
      "x_train:[43 10 49 28 20  0 46 30  8 21 24 23  9 18 41 32  5 19 18] x_test:[31]\n",
      "y_train:[0 0 0 0 0 0 1 0 1 0 1 1 0 0 0 0 0 0 0] y_test:[1]\n",
      "**************fold 11**************\n",
      "x_train:[43 10 49 28 20  0 46 30  8 21 31 23  9 18 41 32  5 19 18] x_test:[24]\n",
      "y_train:[0 0 0 0 0 0 1 0 1 0 1 1 0 0 0 0 0 0 0] y_test:[1]\n",
      "**************fold 12**************\n",
      "x_train:[43 10 49 28 20  0 46 30  8 21 31 24  9 18 41 32  5 19 18] x_test:[23]\n",
      "y_train:[0 0 0 0 0 0 1 0 1 0 1 1 0 0 0 0 0 0 0] y_test:[1]\n",
      "**************fold 13**************\n",
      "x_train:[43 10 49 28 20  0 46 30  8 21 31 24 23 18 41 32  5 19 18] x_test:[9]\n",
      "y_train:[0 0 0 0 0 0 1 0 1 0 1 1 1 0 0 0 0 0 0] y_test:[0]\n",
      "**************fold 14**************\n",
      "x_train:[43 10 49 28 20  0 46 30  8 21 31 24 23  9 41 32  5 19 18] x_test:[18]\n",
      "y_train:[0 0 0 0 0 0 1 0 1 0 1 1 1 0 0 0 0 0 0] y_test:[0]\n",
      "**************fold 15**************\n",
      "x_train:[43 10 49 28 20  0 46 30  8 21 31 24 23  9 18 32  5 19 18] x_test:[41]\n",
      "y_train:[0 0 0 0 0 0 1 0 1 0 1 1 1 0 0 0 0 0 0] y_test:[0]\n",
      "**************fold 16**************\n",
      "x_train:[43 10 49 28 20  0 46 30  8 21 31 24 23  9 18 41  5 19 18] x_test:[32]\n",
      "y_train:[0 0 0 0 0 0 1 0 1 0 1 1 1 0 0 0 0 0 0] y_test:[0]\n",
      "**************fold 17**************\n",
      "x_train:[43 10 49 28 20  0 46 30  8 21 31 24 23  9 18 41 32 19 18] x_test:[5]\n",
      "y_train:[0 0 0 0 0 0 1 0 1 0 1 1 1 0 0 0 0 0 0] y_test:[0]\n",
      "**************fold 18**************\n",
      "x_train:[43 10 49 28 20  0 46 30  8 21 31 24 23  9 18 41 32  5 18] x_test:[19]\n",
      "y_train:[0 0 0 0 0 0 1 0 1 0 1 1 1 0 0 0 0 0 0] y_test:[0]\n",
      "**************fold 19**************\n",
      "x_train:[43 10 49 28 20  0 46 30  8 21 31 24 23  9 18 41 32  5 19] x_test:[18]\n",
      "y_train:[0 0 0 0 0 0 1 0 1 0 1 1 1 0 0 0 0 0 0] y_test:[0]\n"
     ]
    }
   ],
   "source": [
    "from sklearn.model_selection import LeaveOneOut\n",
    "loo = LeaveOneOut()\n",
    "for fold_, (train_index, valid_index) in enumerate(loo.split(x, y)):\n",
    "    print(\"**************fold {}**************\".format(fold_))\n",
    "    print(\"x_train:%s x_test:%s\"%(x[train_index], x[valid_index]))\n",
    "    print(\"y_train:%s y_test:%s\"%(y[train_index], y[valid_index]))"
   ]
  },
  {
   "cell_type": "markdown",
   "metadata": {},
   "source": [
    "## 自助法"
   ]
  },
  {
   "cell_type": "markdown",
   "metadata": {},
   "source": [
    "**np.floor():**返回不大于输入参数的最大整数。（向下取整）"
   ]
  },
  {
   "cell_type": "markdown",
   "metadata": {},
   "source": [
    "**map(function, iterable, ...)：**会根据提供的函数对指定序列做映射。  \n",
    "第一个参数 function 以参数序列中的每一个元素调用 function 函数，返回包含每次 function 函数返回值的新列表。  \n",
    "例如：  \n",
    "map(lambda x: x ** 2, [1, 2, 3, 4, 5])  # 使用 lambda 匿名函数  \n",
    "输出：[1, 4, 9, 16, 25]"
   ]
  },
  {
   "cell_type": "code",
   "execution_count": 10,
   "metadata": {},
   "outputs": [
    {
     "name": "stdout",
     "output_type": "stream",
     "text": [
      "x_train:[21, 0, 49, 49, 43, 28, 46, 9, 46, 24, 19, 23, 18, 30, 5, 31, 20, 30, 18, 23] x_test:[10, 8, 18, 41, 32]\n",
      "y_train:[0, 0, 0, 0, 0, 0, 1, 0, 1, 1, 0, 1, 0, 0, 0, 1, 0, 0, 0, 1] y_test:[0, 1, 0, 0, 0]\n"
     ]
    }
   ],
   "source": [
    "bootstrapping = []\n",
    "for i in range(len(x)):\n",
    "    bootstrapping.append(np.floor(np.random.random()*len(x)))  # 这一步就是自助法的核心思想，每次随机采样后放回\n",
    "bootstrapping = list(map(int, bootstrapping))  # 得到采样值的索引\n",
    "x_train = []\n",
    "y_train = []\n",
    "x_test = []\n",
    "y_test = []\n",
    "for i in range(len(x)):\n",
    "    x_train.append(x[bootstrapping[i]])\n",
    "    y_train.append(y[bootstrapping[i]])\n",
    "    if i not in bootstrapping:\n",
    "        x_test.append(x[i])\n",
    "        y_test.append(y[i])\n",
    "print(\"x_train:%s x_test:%s\"%(x_train, x_test))\n",
    "print(\"y_train:%s y_test:%s\"%(y_train, y_test))"
   ]
  },
  {
   "cell_type": "markdown",
   "metadata": {},
   "source": [
    "# 自己实现"
   ]
  },
  {
   "cell_type": "markdown",
   "metadata": {},
   "source": [
    "## train_test_split"
   ]
  },
  {
   "cell_type": "markdown",
   "metadata": {},
   "source": [
    "**代码参考：**sklearn源码  \n",
    "在代码实现层面，**数据划分的思路**是对列表(或数组)的**索引值**进行划分  \n",
    "当stratify=None时，划分流程是：直接按照比例把索引的array划分为两份。  \n",
    "当stratify=True时，划分流程是：1 把每一类数据索引值放在一个array中。2 按照比例把每类索引的array划分为两份，分别为每类数据的train_index和test_index。3 把所有train_index和test_index分别拼接在一起。"
   ]
  },
  {
   "cell_type": "markdown",
   "metadata": {},
   "source": [
    "**np.random.permutation：**随机排列  \n",
    "**np.unique(x)：**去掉x中的重复元素，并进行排序之后输出  \n",
    "**np.bincount(x)：**x中每个值的个数统计  \n",
    "**np.argsort(x)：**将x中的元素从小到大排列，提取其对应的index(索引)，然后输出  \n",
    "**np.cumsum(x)：**对x中的数字进行累计求和，然后输出"
   ]
  },
  {
   "cell_type": "code",
   "execution_count": 11,
   "metadata": {},
   "outputs": [],
   "source": [
    "def train_test_split_myown(X, y, test_size=0.25, shuffle = True, random_state = None, stratify = None):\n",
    "    if random_state:\n",
    "        np.random.seed(random_state) # 给定随机数种子\n",
    "    if stratify == None:\n",
    "        if shuffle:\n",
    "            shuffled_indexes = np.random.permutation(len(X)) # 打乱后的索引\n",
    "        else:\n",
    "            shuffled_indexes = np.arange(len(x)) # 原索引\n",
    "        test_num = int(len(X) * test_size) # 测试集样本的个数\n",
    "        train_index = shuffled_indexes[test_num:]\n",
    "        test_index = shuffled_indexes[:test_num]\n",
    "        return X[train_index], X[test_index], y[train_index], y[test_index] \n",
    "    else:\n",
    "        classes, y_indices = np.unique(y, return_inverse=True) # classes：所有类别标签，y_indices:y中每个值在classes中的索引\n",
    "        n_classes = classes.shape[0] # 类别数\n",
    "        class_counts = np.bincount(y_indices) # 每一类标签的个数\n",
    "        class_indices = np.split(np.argsort(y_indices, kind='mergesort'), np.cumsum(class_counts)[:-1]) # 每一类标签值的索引\n",
    "        train_index = []\n",
    "        test_index = []\n",
    "        for i in range(n_classes):\n",
    "            permutation = np.random.permutation(class_counts[i])\n",
    "            shuffled_indexes_i = class_indices[i].take(permutation, mode='clip') # 与上一步一起，每一类标签打乱\n",
    "            test_num = int(class_counts[i]  * test_size) # 测试集样本的个数\n",
    "            train_index.extend(shuffled_indexes_i[test_num:]) \n",
    "            test_index.extend(shuffled_indexes_i[:test_num])\n",
    "        train_index = np.random.permutation(train_index)\n",
    "        test_index = np.random.permutation(test_index)\n",
    "        return X[train_index], X[test_index], y[train_index], y[test_index] "
   ]
  },
  {
   "cell_type": "code",
   "execution_count": 12,
   "metadata": {},
   "outputs": [
    {
     "name": "stdout",
     "output_type": "stream",
     "text": [
      "x_train:[ 8  0 24 28 19 32  9 49 21 18 20 23 30 31 18 46] x_test:[43  5 41 10]\n",
      "y_train:[1 0 1 0 0 0 0 0 0 0 0 1 0 1 0 1] y_test:[0 0 0 0]\n"
     ]
    }
   ],
   "source": [
    "X_train, X_test, Y_train, Y_test = train_test_split_myown(x, y, test_size = 0.2, shuffle = True, random_state = 42, stratify=None)\n",
    "print(\"x_train:%s x_test:%s\"%(X_train, X_test))\n",
    "print(\"y_train:%s y_test:%s\"%(Y_train, Y_test))"
   ]
  },
  {
   "cell_type": "code",
   "execution_count": 13,
   "metadata": {},
   "outputs": [
    {
     "name": "stdout",
     "output_type": "stream",
     "text": [
      "x_train:[ 8 31 20  9 41  5 49 28 24 19 10  0 18 46 30 21] x_test:[18 23 43 32]\n",
      "y_train:[1 1 0 0 0 0 0 0 1 0 0 0 0 1 0 0] y_test:[0 1 0 0]\n"
     ]
    }
   ],
   "source": [
    "X_train, X_test, Y_train, Y_test = train_test_split_myown(x, y, test_size = 0.2, shuffle = True, random_state = 42, stratify=True)\n",
    "print(\"x_train:%s x_test:%s\"%(X_train, X_test))\n",
    "print(\"y_train:%s y_test:%s\"%(Y_train, Y_test))"
   ]
  },
  {
   "cell_type": "markdown",
   "metadata": {},
   "source": [
    "## StratifiedShuffleSplit"
   ]
  },
  {
   "cell_type": "markdown",
   "metadata": {},
   "source": [
    "StratifiedShuffleSplit与train_test_split(sstratify=True)的区别就是前者进行了五次划分。  \n",
    "实现五次划分的方法是关键字yield  \n",
    "yield与return的区别：带yield的函数是一个迭代生成器，带return关键字的函数就是一个函数，下面通过本例具体解释：  \n",
    "本例n_split=5，因此，for fold_, (train_index, valid_index) in enumerate(ssm.split(x, y))的循环是把ssm.split(x, y)执行5次。  \n",
    "如果split函数采用return关键字，则每次都会把split函数全部执行，即split中的for j in range(self.n_splits)全部循环完成，因此每次返回的都是j=4(从0开始)的分类结果。  \n",
    "如果split函数采用yield关键字，则每次到yield，生成器就会停止运行，下次循环从停止的地方开始。即n_split=0时，yield返回j=0的分类结果，然后停止运行。n_split=1时，从上次停止的地方继续运行，即j=1，因此yield返回j=1的分类结果，依次类推"
   ]
  },
  {
   "cell_type": "code",
   "execution_count": 14,
   "metadata": {},
   "outputs": [],
   "source": [
    "class StratifiedShuffleSplit_myown:\n",
    "    def __init__(self, n_splits = 10, test_size = 0.1, random_state = None):\n",
    "        self.n_splits = n_splits\n",
    "        self.test_size = test_size\n",
    "        self.random_state = random_state\n",
    "    def split(self, X, y):\n",
    "        if self.random_state:\n",
    "            np.random.seed(self.random_state) # 给定随机数种子\n",
    "        for j in range(self.n_splits):\n",
    "            classes, y_indices = np.unique(y, return_inverse=True) # classes：所有类别标签，y_indices:y中每个值在classes中的索引\n",
    "            n_classes = classes.shape[0] # 类别数\n",
    "            class_counts = np.bincount(y_indices) # 每一类标签的个数\n",
    "            class_indices = np.split(np.argsort(y_indices, kind='mergesort'), np.cumsum(class_counts)[:-1]) # 每一类标签值的索引\n",
    "            train_index = []\n",
    "            test_index = []\n",
    "            for i in range(n_classes):\n",
    "                permutation = np.random.permutation(class_counts[i])\n",
    "                shuffled_indexes_i = class_indices[i].take(permutation, mode='clip') # 与上一步一起，每一类标签打乱\n",
    "                test_num = int(class_counts[i]  * self.test_size) # 测试集样本的个数\n",
    "                train_index.extend(shuffled_indexes_i[test_num:]) \n",
    "                test_index.extend(shuffled_indexes_i[:test_num])\n",
    "            train_index = np.random.permutation(train_index)\n",
    "            test_index = np.random.permutation(test_index)\n",
    "            yield train_index, test_index"
   ]
  },
  {
   "cell_type": "code",
   "execution_count": 15,
   "metadata": {},
   "outputs": [
    {
     "name": "stdout",
     "output_type": "stream",
     "text": [
      "**************fold 0**************\n",
      "x_train:[ 8 31 20  9 41  5 49 28 24 19 10  0 18 46 30 21] x_test:[18 23 43 32]\n",
      "y_train:[1 1 0 0 0 0 0 0 1 0 0 0 0 1 0 0] y_test:[0 1 0 0]\n",
      "**************fold 1**************\n",
      "x_train:[31 46 19 18 43  9 21  8 30 28 20 41  5 24 32 49] x_test:[18  0 10 23]\n",
      "y_train:[1 1 0 0 0 0 0 1 0 0 0 0 0 1 0 0] y_test:[0 0 0 1]\n",
      "**************fold 2**************\n",
      "x_train:[30  5 32 23 41 46  8 10 18 43  0 28 18 19  9 24] x_test:[31 49 20 21]\n",
      "y_train:[0 0 0 1 0 1 1 0 0 0 0 0 0 0 0 1] y_test:[1 0 0 0]\n",
      "**************fold 3**************\n",
      "x_train:[43  9  5 20 18 49 30 41 18 46 31  8 10 23  0 28] x_test:[24 21 19 32]\n",
      "y_train:[0 0 0 0 0 0 0 0 0 1 1 1 0 1 0 0] y_test:[1 0 0 0]\n",
      "**************fold 4**************\n",
      "x_train:[31 49 32 18  8 30 41 23 20 18 19  9 28 24 43 21] x_test:[ 5 46  0 10]\n",
      "y_train:[1 0 0 0 1 0 0 1 0 0 0 0 0 1 0 0] y_test:[0 1 0 0]\n"
     ]
    }
   ],
   "source": [
    "ssm = StratifiedShuffleSplit_myown(n_splits=5, test_size=0.2, random_state=42)\n",
    "for fold_, (train_index, valid_index) in enumerate(ssm.split(x, y)):\n",
    "    print(\"**************fold {}**************\".format(fold_))\n",
    "    print(\"x_train:%s x_test:%s\"%(x[train_index], x[valid_index]))\n",
    "    print(\"y_train:%s y_test:%s\"%(y[train_index], y[valid_index]))"
   ]
  },
  {
   "cell_type": "markdown",
   "metadata": {},
   "source": [
    "## KFold"
   ]
  },
  {
   "cell_type": "markdown",
   "metadata": {},
   "source": [
    "**np.full(shape, fill_value, dtype=None, order='C'):**构建一个shape大小的数组，填充之值为fill_value,类型为dtpye，风格为C"
   ]
  },
  {
   "cell_type": "code",
   "execution_count": 18,
   "metadata": {},
   "outputs": [],
   "source": [
    "class KFold_myown:\n",
    "    def __init__(self, n_splits=5, shuffle=False, random_state=None):\n",
    "        self.n_splits = n_splits\n",
    "        self.shuffle = shuffle\n",
    "        self.random_state = random_state\n",
    "    def split(self, X, y):\n",
    "        n_samples = len(X)\n",
    "        indices = np.arange(n_samples)\n",
    "        if self.random_state:\n",
    "            np.random.seed(self.random_state) # 给定随机数种子\n",
    "        if self.shuffle:\n",
    "            shuffled_indexes = np.random.permutation(indices) # 打乱后的索引\n",
    "        else:\n",
    "            shuffled_indexes = np.arange(len(x)) # 原索引\n",
    "        fold_sizes = np.full(self.n_splits, n_samples // self.n_splits, dtype = np.int)\n",
    "        fold_sizes[:n_samples % self.n_splits] += 1 # 与上一行一起，确定每折内数据的个数，%求的是余数。\n",
    "        current = 0\n",
    "        for fold_size in fold_sizes:\n",
    "            start, stop = current, current + fold_size\n",
    "            test_index = indices[start:stop] # 取一份作为测试集\n",
    "            train_index = np.delete(indices, test_index) # 剩下的数据为训练集\n",
    "            yield train_index, test_index\n",
    "            current = stop"
   ]
  },
  {
   "cell_type": "code",
   "execution_count": 19,
   "metadata": {},
   "outputs": [
    {
     "name": "stdout",
     "output_type": "stream",
     "text": [
      "**************fold 0**************\n",
      "x_train:[20  0 46 30  8 21 31 24 23  9 18 41 32  5 19 18] x_test:[43 10 49 28]\n",
      "y_train:[0 0 1 0 1 0 1 1 1 0 0 0 0 0 0 0] y_test:[0 0 0 0]\n",
      "**************fold 1**************\n",
      "x_train:[43 10 49 28  8 21 31 24 23  9 18 41 32  5 19 18] x_test:[20  0 46 30]\n",
      "y_train:[0 0 0 0 1 0 1 1 1 0 0 0 0 0 0 0] y_test:[0 0 1 0]\n",
      "**************fold 2**************\n",
      "x_train:[43 10 49 28 20  0 46 30 23  9 18 41 32  5 19 18] x_test:[ 8 21 31 24]\n",
      "y_train:[0 0 0 0 0 0 1 0 1 0 0 0 0 0 0 0] y_test:[1 0 1 1]\n",
      "**************fold 3**************\n",
      "x_train:[43 10 49 28 20  0 46 30  8 21 31 24 32  5 19 18] x_test:[23  9 18 41]\n",
      "y_train:[0 0 0 0 0 0 1 0 1 0 1 1 0 0 0 0] y_test:[1 0 0 0]\n",
      "**************fold 4**************\n",
      "x_train:[43 10 49 28 20  0 46 30  8 21 31 24 23  9 18 41] x_test:[32  5 19 18]\n",
      "y_train:[0 0 0 0 0 0 1 0 1 0 1 1 1 0 0 0] y_test:[0 0 0 0]\n"
     ]
    }
   ],
   "source": [
    "kfm = KFold_myown(n_splits=5, shuffle=True, random_state=42)\n",
    "for fold_, (train_index, valid_index) in enumerate(kfm.split(x, y)):\n",
    "    print(\"**************fold {}**************\".format(fold_))\n",
    "    print(\"x_train:%s x_test:%s\"%(x[train_index], x[valid_index]))\n",
    "    print(\"y_train:%s y_test:%s\"%(y[train_index], y[valid_index]))"
   ]
  },
  {
   "cell_type": "markdown",
   "metadata": {},
   "source": [
    "## 总结"
   ]
  },
  {
   "cell_type": "markdown",
   "metadata": {},
   "source": [
    "从代码实现的角度说，sklearn所有的数据划分功能可以分为三类：  \n",
    "**1** train_test_split   \n",
    "**2** StratifiedShuffleSplit   \n",
    "**3** KFold    \n",
    "其他功能均为以上功能代码的组合或参数修改，例如LeaveOneOut()就是n_splits = len(x)的KFold，因此这里不在给出，大家可以自行练习  \n",
    "**N.B.** sklearn的源码是通过类的继承来实现基本功能的组合和扩展"
   ]
  }
 ],
 "metadata": {
  "kernelspec": {
   "display_name": "Python 3 (ipykernel)",
   "language": "python",
   "name": "python3"
  },
  "language_info": {
   "codemirror_mode": {
    "name": "ipython",
    "version": 3
   },
   "file_extension": ".py",
   "mimetype": "text/x-python",
   "name": "python",
   "nbconvert_exporter": "python",
   "pygments_lexer": "ipython3",
   "version": "3.9.7"
  },
  "toc": {
   "base_numbering": 1,
   "nav_menu": {},
   "number_sections": true,
   "sideBar": true,
   "skip_h1_title": false,
   "title_cell": "Table of Contents",
   "title_sidebar": "Contents",
   "toc_cell": false,
   "toc_position": {
    "height": "calc(100% - 180px)",
    "left": "10px",
    "top": "150px",
    "width": "256px"
   },
   "toc_section_display": true,
   "toc_window_display": false
  }
 },
 "nbformat": 4,
 "nbformat_minor": 4
}
